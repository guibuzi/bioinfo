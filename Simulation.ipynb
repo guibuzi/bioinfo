{
  "nbformat": 4,
  "nbformat_minor": 0,
  "metadata": {
    "colab": {
      "provenance": [],
      "gpuType": "T4",
      "toc_visible": true,
      "include_colab_link": true
    },
    "kernelspec": {
      "name": "python3",
      "display_name": "Python 3"
    },
    "language_info": {
      "name": "python"
    },
    "accelerator": "GPU"
  },
  "cells": [
    {
      "cell_type": "markdown",
      "metadata": {
        "id": "view-in-github",
        "colab_type": "text"
      },
      "source": [
        "<a href=\"https://colab.research.google.com/github/guibuzi/bioinfo/blob/master/Simulation.ipynb\" target=\"_parent\"><img src=\"https://colab.research.google.com/assets/colab-badge.svg\" alt=\"Open In Colab\"/></a>"
      ]
    },
    {
      "cell_type": "code",
      "execution_count": null,
      "metadata": {
        "id": "J_eNSu1KisDt"
      },
      "outputs": [],
      "source": [
        "try:\n",
        "    import diffrax as dfx\n",
        "    import equinox as eqx\n",
        "except ImportError:\n",
        "    !pip install -U pip diffrax\n",
        "    import diffrax as dfx\n",
        "    import equinox as eqx\n",
        "\n",
        "import jax\n",
        "import jax.numpy as jnp\n",
        "import jax.random as jrn\n",
        "import time\n",
        "import scipy.stats.qmc as qmc\n",
        "import numpy as np\n",
        "\n",
        "from frozendict import frozendict\n",
        "from diffrax.custom_types import Scalar\n",
        "from typing import Dict, Tuple, Optional, Any, List\n",
        "from datetime import datetime\n",
        "from functools import partial\n",
        "\n",
        "jax.config.update('jax_enable_x64', True)\n",
        "\n",
        "_InitialConditions_t = Optional[Tuple[jax.Array, jax.Array]]\n",
        "_Carry_t = Tuple[jax.Array, jax.Array, jax.Array, Dict[str,int]]\n",
        "_Solution_t = Tuple[jax.Array, jax.Array, jax.Array]\n",
        "\n",
        "np.random.seed(1024)"
      ]
    },
    {
      "cell_type": "markdown",
      "source": [
        "## Model Definition"
      ],
      "metadata": {
        "id": "xqR8rqt0D5iP"
      }
    },
    {
      "cell_type": "code",
      "source": [
        "class Model(eqx.Module):\n",
        "    system_dimension: int = 4\n",
        "    for_diffrax: bool = eqx.static_field(default=True)\n",
        "    to_estimate: int = 2\n",
        "\n",
        "    @property\n",
        "    def event_mask(self) -> jax.Array:\n",
        "        return jnp.array([])\n",
        "\n",
        "    @property\n",
        "    def defaults(self) -> Tuple[jnp.ndarray, jnp.ndarray]:\n",
        "        \"\"\" Return default values for states and arguments \"\"\"\n",
        "        states = jnp.array(\n",
        "            [\n",
        "               15061.32075, # Tstar\n",
        "               1860000.0, # V\n",
        "               1860000.0, # Vin\n",
        "               0.0, # Vni\n",
        "            ], dtype=jnp.float64)\n",
        "\n",
        "        args = jnp.array(\n",
        "            [\n",
        "               1.0, # default\n",
        "               480.0, # NN\n",
        "               11000.0, # T0\n",
        "               3.9e-07, # K0\n",
        "               2.06, # c\n",
        "               0.53, # delta\n",
        "            ], dtype=jnp.float64)\n",
        "\n",
        "        return states, args\n",
        "\n",
        "    @eqx.filter_jit\n",
        "    def initial(self, t: float, state: jnp.ndarray, args: jnp.ndarray) -> Tuple[np.ndarray, jnp.ndarray]:\n",
        "        \"\"\" Compute initial equations with given initial value \"\"\"\n",
        "\n",
        "        Tstar = state[0]\n",
        "        V = state[1]\n",
        "        Vin = state[2]\n",
        "        Vni = state[3]\n",
        "        default = args[0]\n",
        "        NN = args[1]\n",
        "        T0 = args[2]\n",
        "        K0 = args[3]\n",
        "        c = args[4]\n",
        "        delta = args[5]\n",
        "\n",
        "        state = jnp.array([Tstar,V,Vin,Vni])\n",
        "\n",
        "        args = jnp.array([default,NN,T0,K0,c,delta])\n",
        "\n",
        "        return state, args\n",
        "\n",
        "    @jax.jit\n",
        "    def __call__(self, t: float, state: jax.Array, args: jax.Array) -> jax.Array:\n",
        "        \"\"\" Returns the ODEs \"\"\"\n",
        "        Tstar = state[0]\n",
        "        Vin = state[2]\n",
        "        Vni = state[3]\n",
        "\n",
        "        K0 = args[3]\n",
        "        NN = args[1]\n",
        "        T0 = args[2]\n",
        "        c = args[4]\n",
        "        default = args[0]\n",
        "        delta = args[5]\n",
        "\n",
        "        v4 = Vni*c\n",
        "        v3 = Vin*c\n",
        "        v5 = NN*Tstar*delta\n",
        "        v2 = Tstar*delta\n",
        "        v1 = K0*T0*Vin\n",
        "\n",
        "        dTstar_dt = 1.0*(1.0*v1 - 1.0*v2)/default\n",
        "        dV_dt = 1.0*(-1.0*v3 - 1.0*v4 + 1.0*v5)/default\n",
        "        dVin_dt = -1.0*1.0*v3/default\n",
        "        dVni_dt = 1.0*(-1.0*v4 + 1.0*v5)/default\n",
        "\n",
        "        return jnp.stack([\n",
        "            dTstar_dt, dV_dt, dVin_dt, dVni_dt\n",
        "        ], dtype=jnp.float64)\n",
        "\n",
        "    @jax.jit\n",
        "    def algebraic(self, t: float, state: jax.Array, args: jax.Array) -> jax.Array:\n",
        "        \"\"\" Apply algebraic equations and returns the modified values \"\"\"\n",
        "        return args\n",
        "\n",
        "    @jax.jit\n",
        "    def events(\n",
        "            self, t: float, state: jax.Array, args: jax.Array, event_mask: jax.Array\n",
        "    ) -> Tuple[jax.Array, jax.Array, jax.Array]:\n",
        "        \"\"\" Function that execute all the events of the mode \"\"\"\n",
        "\n",
        "        return state, args, event_mask"
      ],
      "metadata": {
        "id": "qK2ewaocjKi7"
      },
      "execution_count": null,
      "outputs": []
    },
    {
      "cell_type": "markdown",
      "source": [
        "## Diffrax interface (Assuming `args` vector trajectory is to required as result)"
      ],
      "metadata": {
        "id": "pZsPaTLYThby"
      }
    },
    {
      "cell_type": "code",
      "source": [
        "@partial(jax.vmap, in_axes=(None,None,None,None,0,0))\n",
        "def dfxsimulate(\n",
        "    model: eqx.Module,\n",
        "    t0: float,\n",
        "    t1: float,\n",
        "    duration: int,\n",
        "    x0: jax.Array,\n",
        "    args0: jax.Array\n",
        ") -> dfx.Solution:\n",
        "    ode_term = dfx.ODETerm(model)\n",
        "    ts = jnp.linspace(t0, t1, duration + 1)\n",
        "    pid_controller = dfx.PIDController(rtol=1.0e-6, atol=1.0e-9)\n",
        "    saveat = dfx.SaveAt(ts=ts)\n",
        "    solver = dfx.Kvaerno5()\n",
        "\n",
        "    # Run with diffeqsolve, we can do this since\n",
        "    # the model has no events\n",
        "    dt0 = (t1 - t0) / duration\n",
        "    return dfx.diffeqsolve(\n",
        "        ode_term, solver, t0, t1, dt0, x0, args0,\n",
        "        stepsize_controller=pid_controller,\n",
        "        saveat=saveat, max_steps=500000\n",
        "    )"
      ],
      "metadata": {
        "id": "Mg073NtTTg9L"
      },
      "execution_count": null,
      "outputs": []
    },
    {
      "cell_type": "markdown",
      "source": [
        "## Step-by-step simulation Interface"
      ],
      "metadata": {
        "id": "tBzX2hW5krcb"
      }
    },
    {
      "cell_type": "code",
      "source": [
        "def _simulation_loop(\n",
        "    x0: jnp.ndarray,\n",
        "    args0: jnp.ndarray,\n",
        "    event_mask: jnp.ndarray,\n",
        "    ts: jnp.ndarray,\n",
        "    model: eqx.Module,\n",
        "    dt0: jnp.ndarray,\n",
        "    t0: jnp.ndarray,\n",
        "    ode_term: dfx.AbstractTerm,\n",
        "    pid_controller: dfx.AbstractStepSizeController,\n",
        "    solver: dfx.AbstractSolver,\n",
        "    saveat: dfx.SaveAt\n",
        ") -> _Solution_t:\n",
        "    \"\"\" Simulate for a single initial condition \"\"\"\n",
        "\n",
        "    def _simulation_step(carry: _Carry_t, x: Scalar) -> Tuple[_Carry_t, List[jax.Array]]:\n",
        "        \"\"\" Execute a single integration step of the simulation loop \"\"\"\n",
        "        _y0, _args0, event_mask = carry\n",
        "        _t0 = x\n",
        "        _t1 = _t0 + dt0\n",
        "\n",
        "        # Apply Events\n",
        "        _y0, _args0, event_mask = model.events(_t1, _y0, _args0, event_mask)\n",
        "\n",
        "        # Run the integration step and other middle steps in case they are necessary\n",
        "        # for the adaptive step size controller\n",
        "        _solution = dfx.diffeqsolve(\n",
        "            terms=ode_term, solver=solver, t0=_t0, t1=_t1, dt0=dt0, y0=_y0, args=_args0,\n",
        "            saveat=saveat, stepsize_controller=pid_controller, max_steps=50000000)\n",
        "\n",
        "        # Take the solutions\n",
        "        _y0, _args0 = _solution.ys[0][0], _solution.ys[1][0]\n",
        "\n",
        "        # Apply algebraic equations\n",
        "        _args0 = model.algebraic(_t1, _y0, _args0)\n",
        "        return (_y0, _args0, event_mask), [_y0.T, _args0.T]\n",
        "\n",
        "    # Apply initial equations\n",
        "    x0, args0 = model.initial(t0, x0, args0)\n",
        "\n",
        "    # Execute initial events\n",
        "    x0, args0, event_mask = model.events(t0, x0, args0, event_mask)\n",
        "\n",
        "    # Run the entire simulation and construct the final solution\n",
        "    initial_carry = (x0, args0, event_mask)\n",
        "    (_, _, _), ys = jax.lax.scan(_simulation_step, initial_carry, ts)\n",
        "\n",
        "    # Now we need to add the initial conditions to the trajectories\n",
        "    state_trajectory = jnp.vstack([x0, ys[0][:-1, :]])\n",
        "    args_trajectory = jnp.vstack([args0, ys[1][:-1, :]])\n",
        "\n",
        "    return state_trajectory, args_trajectory, ts\n",
        "\n",
        "\n",
        "@eqx.filter_jit\n",
        "def simulate(\n",
        "    model: eqx.Module,\n",
        "    t0: float,\n",
        "    t1: float,\n",
        "    duration: int,\n",
        "    initial_conditions: _InitialConditions_t=(None, None),\n",
        "    controller_atol: float=1.0e-9,\n",
        "    controller_rtol: float=1.0e-6,\n",
        "    controller_pcoeff: float=.0,\n",
        "    controller_icoeff: float=1.0,\n",
        "    controller_dcoeff: float=.0,\n",
        "    stiff: bool=True\n",
        ") -> _Solution_t:\n",
        "    # Define the ODE term used by Diffrax for defining the vectorial field\n",
        "    ode_term = dfx.ODETerm(model)\n",
        "\n",
        "    # Obtain initial assignments and event condition mask\n",
        "    initial_x, initial_args = initial_conditions\n",
        "    x0_model, args0_model = model.defaults\n",
        "    x0 = x0_model if initial_x is None else initial_x\n",
        "    args0 = args0_model if initial_args is None else initial_args\n",
        "    event_mask = model.event_mask\n",
        "\n",
        "    # Define the solver and the step size controller\n",
        "    solver = dfx.Kvaerno5() if stiff else dfx.Tsit5()\n",
        "    pid_controller = dfx.PIDController(\n",
        "        atol=controller_atol,\n",
        "        rtol=controller_rtol,\n",
        "        pcoeff=controller_pcoeff,\n",
        "        icoeff=controller_icoeff,\n",
        "        dcoeff=controller_dcoeff)\n",
        "\n",
        "    # Define the saveat\n",
        "    saveat_y = dfx.SubSaveAt(t1=True, fn=lambda t,y,args: y)\n",
        "    saveat_args = dfx.SubSaveAt(t1=True, fn=lambda t,y,args: args)\n",
        "    saveat = dfx.SaveAt(subs=[saveat_y, saveat_args])\n",
        "\n",
        "    # Define the integration time sequence\n",
        "    time_sequence = jnp.linspace(t0, t1, duration + 1)\n",
        "\n",
        "    # Make the variables Traced objects for future uses\n",
        "    t0 = jnp.asarray(t0, dtype=jnp.float64)\n",
        "    t1 = jnp.asarray(t1, dtype=jnp.float64)\n",
        "    dt0 = jnp.asarray((t1 - t0) / duration, dtype=jnp.float64)\n",
        "\n",
        "    # First of all checks if at least one between x0 and args0 have more then\n",
        "    # 1 dimension. In this case we need to tile the other to be able to VMAP.\n",
        "    if x0.ndim > 1 and args0.ndim == 1: args0 = jnp.tile(args0, (x0.shape[0], 1))\n",
        "    if args0.ndim > 1 and x0.ndim == 1: x0 = jnp.tile(x0, (args0.shape[0], 1))\n",
        "\n",
        "    _single_simulation = lambda x,y: _simulation_loop(\n",
        "        x, y, event_mask, time_sequence, model, dt0, t0,ode_term,\n",
        "        pid_controller, solver, saveat)\n",
        "\n",
        "    # If both x0 and args0 have one single dimension, then we do not need to VMAP\n",
        "    if x0.ndim == 1 and args0.ndim == 1:\n",
        "        return _single_simulation(x0, args0)\n",
        "\n",
        "    # Otherwise, they have both multiple dimensions and we VMAP\n",
        "    return jax.vmap(_single_simulation)(x0, args0)"
      ],
      "metadata": {
        "id": "KeOU4x2_kiKZ"
      },
      "execution_count": null,
      "outputs": []
    },
    {
      "cell_type": "markdown",
      "source": [
        "## Run simulations"
      ],
      "metadata": {
        "id": "GEDk3eNvmcB_"
      }
    },
    {
      "cell_type": "code",
      "source": [
        "# Instantiate the model\n",
        "dfx_model = Model()\n",
        "my_model = Model(for_diffrax=False)\n",
        "dfx_model, my_model"
      ],
      "metadata": {
        "colab": {
          "base_uri": "https://localhost:8080/"
        },
        "id": "jJLFMFY5mZu3",
        "outputId": "7e4747e2-fda7-4bc6-dae5-0f59f524c71d"
      },
      "execution_count": null,
      "outputs": [
        {
          "output_type": "execute_result",
          "data": {
            "text/plain": [
              "(Model(system_dimension=4, for_diffrax=True, to_estimate=2),\n",
              " Model(system_dimension=4, for_diffrax=False, to_estimate=2))"
            ]
          },
          "metadata": {},
          "execution_count": 18
        }
      ]
    },
    {
      "cell_type": "markdown",
      "source": [
        "### Generate initial conditions"
      ],
      "metadata": {
        "id": "-4xybFHNVfag"
      }
    },
    {
      "cell_type": "code",
      "source": [
        "x0, args0 = dfx_model.defaults\n",
        "\n",
        "num_simulations = 1000\n",
        "args_noise = jnp.array(np.random.uniform(low=1.0e-5, high=100000, size=(num_simulations, dfx_model.to_estimate)))\n",
        "multi_args0 = jnp.tile(args0, (num_simulations, 1))\n",
        "multi_args0 = multi_args0.at[:, -2:].set(args_noise)\n",
        "multi_x0 = jnp.tile(x0, (num_simulations, 1))"
      ],
      "metadata": {
        "id": "oD08ponIVjxu"
      },
      "execution_count": null,
      "outputs": []
    },
    {
      "cell_type": "markdown",
      "source": [
        "### Comparision Diffrax simulation with step-by-step simulations"
      ],
      "metadata": {
        "id": "HvYDPBGnVUsT"
      }
    },
    {
      "cell_type": "code",
      "source": [
        "def timeis(f, prefix: str=\"\"):\n",
        "    def wrapper(*args, **kwargs):\n",
        "        start = time.time()\n",
        "        result = f(*args, **kwargs)\n",
        "        jax.block_until_ready(result)\n",
        "        print(f\"{prefix} Elapsed Time: {time.time() - start:.3f} sec\")\n",
        "        return result\n",
        "\n",
        "    return wrapper"
      ],
      "metadata": {
        "id": "ZbcoU_zFVYXh"
      },
      "execution_count": null,
      "outputs": []
    },
    {
      "cell_type": "code",
      "source": [
        "t0 = 0.0\n",
        "t1 = 7.0\n",
        "duration = 700"
      ],
      "metadata": {
        "id": "d9iWru0lXM0A"
      },
      "execution_count": null,
      "outputs": []
    },
    {
      "cell_type": "code",
      "source": [
        "\"\"\" Single simulation performance comparision \"\"\"\n",
        "# First compile both mine simulate and diffrax simulate\n",
        "dfxsimulate(dfx_model, t0, t1, duration, x0[None, :], args0[None, :])\n",
        "simulate(my_model, t0, t1, duration, (x0, args0))\n",
        "\n",
        "# Then time the diffrax solution and mine solution\n",
        "solution = timeis(dfxsimulate, prefix=\"Diffrax\")(dfx_model, t0, t1, duration, x0[None, :], args0[None, :])\n",
        "results = timeis(simulate, prefix=\"Mine\")(my_model, t0, t1, duration, (x0, args0))"
      ],
      "metadata": {
        "colab": {
          "base_uri": "https://localhost:8080/"
        },
        "id": "3qv5J9UJWzKk",
        "outputId": "b056686b-2edf-4c5c-90ea-04044cc47c2c"
      },
      "execution_count": null,
      "outputs": [
        {
          "output_type": "stream",
          "name": "stdout",
          "text": [
            "Diffrax Elapsed Time: 0.086 sec\n",
            "Mine Elapsed Time: 1.329 sec\n"
          ]
        }
      ]
    },
    {
      "cell_type": "code",
      "source": [
        "\"\"\" Multiple simulation performance comparision \"\"\"\n",
        "# Recompile all of them, in this case we also take the compilation time of mine version\n",
        "dfxsimulate(dfx_model, t0, t1, duration, multi_x0, multi_args0)\n",
        "timeis(simulate, prefix=\"Comp Mine\")(my_model, t0, t1, duration, (multi_x0, multi_args0))\n",
        "\n",
        "# We already compile those functions, then we can run them\n",
        "solution = timeis(dfxsimulate, prefix=\"Diffrax\")(dfx_model, t0, t1, duration, multi_x0, multi_args0)\n",
        "results = timeis(simulate, prefix=\"Mine\")(my_model, t0, t1, duration, (multi_x0, multi_args0))"
      ],
      "metadata": {
        "colab": {
          "base_uri": "https://localhost:8080/"
        },
        "id": "zq3BL6QbX2gW",
        "outputId": "0b79ac2f-1693-44b7-827b-994b9746842d"
      },
      "execution_count": null,
      "outputs": [
        {
          "output_type": "stream",
          "name": "stdout",
          "text": [
            "Comp Mine Elapsed Time: 6.433 sec\n",
            "Diffrax Elapsed Time: 1.899 sec\n",
            "Mine Elapsed Time: 3.512 sec\n"
          ]
        }
      ]
    }
  ]
}