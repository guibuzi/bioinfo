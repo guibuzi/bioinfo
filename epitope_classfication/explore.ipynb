{
 "nbformat": 4,
 "nbformat_minor": 2,
 "metadata": {
  "language_info": {
   "name": "python",
   "codemirror_mode": {
    "name": "ipython",
    "version": 3
   },
   "version": "3.7.3"
  },
  "orig_nbformat": 2,
  "file_extension": ".py",
  "mimetype": "text/x-python",
  "name": "python",
  "npconvert_exporter": "python",
  "pygments_lexer": "ipython3",
  "version": 3
 },
 "cells": [
  {
   "cell_type": "code",
   "execution_count": 1,
   "metadata": {},
   "outputs": [],
   "source": [
    "import pandas as pd\n",
    "import numpy as np\n",
    "import matplotlib.pyplot as plt\n",
    "\n",
    "import re"
   ]
  },
  {
   "cell_type": "code",
   "execution_count": 6,
   "metadata": {},
   "outputs": [],
   "source": [
    "df = pd.read_csv(\"epitope_classfication/epitope_influenza.csv\", header=[0, 1])"
   ]
  },
  {
   "cell_type": "code",
   "execution_count": 7,
   "metadata": {},
   "outputs": [
    {
     "data": {
      "text/html": "<div>\n<style scoped>\n    .dataframe tbody tr th:only-of-type {\n        vertical-align: middle;\n    }\n\n    .dataframe tbody tr th {\n        vertical-align: top;\n    }\n\n    .dataframe thead th {\n        text-align: right;\n    }\n</style>\n<table border=\"1\" class=\"dataframe\">\n  <thead>\n    <tr style=\"text-align: right;\">\n      <th></th>\n      <th>Epitope ID</th>\n      <th>Object Type</th>\n      <th>Description</th>\n      <th>Epitope Modified Residue(s)</th>\n      <th>Epitope Modification(s)</th>\n      <th>Starting Position</th>\n      <th>Ending Position</th>\n      <th>Non-peptidic epitope Accession</th>\n      <th>Epitope Synonyms</th>\n      <th>Antigen Name</th>\n      <th>Antigen Accession</th>\n      <th>Parent Protein</th>\n      <th>Parent Protein Accession</th>\n      <th>Organism Name</th>\n      <th>Parent Organism</th>\n      <th>Parent Organism ID</th>\n      <th>Epitope Comments</th>\n    </tr>\n  </thead>\n  <tbody>\n    <tr>\n      <th>0</th>\n      <td>133</td>\n      <td>Linear peptide</td>\n      <td>AAFEDLRVLSFIRG</td>\n      <td>NaN</td>\n      <td>NaN</td>\n      <td>336.0</td>\n      <td>349.0</td>\n      <td>NaN</td>\n      <td>NaN</td>\n      <td>nucleoprotein</td>\n      <td>AAO46537.1</td>\n      <td>Nucleoprotein</td>\n      <td>P03466</td>\n      <td>Influenza A virus</td>\n      <td>Influenza A virus</td>\n      <td>11320</td>\n      <td>This reference was originally imported from th...</td>\n    </tr>\n    <tr>\n      <th>1</th>\n      <td>134</td>\n      <td>Linear peptide</td>\n      <td>AAFEDLRVLSFIRGTKVSPR</td>\n      <td>NaN</td>\n      <td>NaN</td>\n      <td>336.0</td>\n      <td>355.0</td>\n      <td>NaN</td>\n      <td>NaN</td>\n      <td>Nucleoprotein</td>\n      <td>P22435.2</td>\n      <td>Nucleoprotein</td>\n      <td>P03466</td>\n      <td>Influenza A virus</td>\n      <td>Influenza A virus</td>\n      <td>11320</td>\n      <td>A tyrosyl residue was added to NP 336-349 in o...</td>\n    </tr>\n    <tr>\n      <th>2</th>\n      <td>142</td>\n      <td>Linear peptide</td>\n      <td>AAGAAVKGV</td>\n      <td>NaN</td>\n      <td>NaN</td>\n      <td>193.0</td>\n      <td>201.0</td>\n      <td>NaN</td>\n      <td>NaN</td>\n      <td>nucleoprotein</td>\n      <td>CAZ65591.1</td>\n      <td>Nucleoprotein</td>\n      <td>P03466</td>\n      <td>Influenza A virus</td>\n      <td>Influenza A virus</td>\n      <td>11320</td>\n      <td>NaN</td>\n    </tr>\n    <tr>\n      <th>3</th>\n      <td>570</td>\n      <td>Linear peptide</td>\n      <td>ACKRGPGSGFFSRLN</td>\n      <td>NaN</td>\n      <td>NaN</td>\n      <td>138.0</td>\n      <td>152.0</td>\n      <td>NaN</td>\n      <td>NaN</td>\n      <td>Hemagglutinin</td>\n      <td>P04663.1</td>\n      <td>Hemagglutinin</td>\n      <td>P03452</td>\n      <td>Influenza A virus</td>\n      <td>Influenza A virus</td>\n      <td>11320</td>\n      <td>NaN</td>\n    </tr>\n    <tr>\n      <th>4</th>\n      <td>798</td>\n      <td>Linear peptide</td>\n      <td>ADYEELREQLSSVSSFERFE</td>\n      <td>NaN</td>\n      <td>NaN</td>\n      <td>113.0</td>\n      <td>132.0</td>\n      <td>NaN</td>\n      <td>NaN</td>\n      <td>hemagglutinin</td>\n      <td>ABI96104.1</td>\n      <td>Hemagglutinin</td>\n      <td>P03452</td>\n      <td>Influenza A virus</td>\n      <td>Influenza A virus</td>\n      <td>11320</td>\n      <td>NaN</td>\n    </tr>\n  </tbody>\n</table>\n</div>",
      "text/plain": "   Epitope ID     Object Type           Description  \\\n0         133  Linear peptide        AAFEDLRVLSFIRG   \n1         134  Linear peptide  AAFEDLRVLSFIRGTKVSPR   \n2         142  Linear peptide             AAGAAVKGV   \n3         570  Linear peptide       ACKRGPGSGFFSRLN   \n4         798  Linear peptide  ADYEELREQLSSVSSFERFE   \n\n  Epitope Modified Residue(s) Epitope Modification(s)  Starting Position  \\\n0                         NaN                     NaN              336.0   \n1                         NaN                     NaN              336.0   \n2                         NaN                     NaN              193.0   \n3                         NaN                     NaN              138.0   \n4                         NaN                     NaN              113.0   \n\n   Ending Position Non-peptidic epitope Accession  Epitope Synonyms  \\\n0            349.0                            NaN               NaN   \n1            355.0                            NaN               NaN   \n2            201.0                            NaN               NaN   \n3            152.0                            NaN               NaN   \n4            132.0                            NaN               NaN   \n\n    Antigen Name Antigen Accession Parent Protein Parent Protein Accession  \\\n0  nucleoprotein        AAO46537.1  Nucleoprotein                   P03466   \n1  Nucleoprotein          P22435.2  Nucleoprotein                   P03466   \n2  nucleoprotein        CAZ65591.1  Nucleoprotein                   P03466   \n3  Hemagglutinin          P04663.1  Hemagglutinin                   P03452   \n4  hemagglutinin        ABI96104.1  Hemagglutinin                   P03452   \n\n       Organism Name    Parent Organism  Parent Organism ID  \\\n0  Influenza A virus  Influenza A virus               11320   \n1  Influenza A virus  Influenza A virus               11320   \n2  Influenza A virus  Influenza A virus               11320   \n3  Influenza A virus  Influenza A virus               11320   \n4  Influenza A virus  Influenza A virus               11320   \n\n                                    Epitope Comments  \n0  This reference was originally imported from th...  \n1  A tyrosyl residue was added to NP 336-349 in o...  \n2                                                NaN  \n3                                                NaN  \n4                                                NaN  "
     },
     "execution_count": 7,
     "metadata": {},
     "output_type": "execute_result"
    }
   ],
   "source": [
    "df['Epitope'].head()"
   ]
  },
  {
   "cell_type": "code",
   "execution_count": 8,
   "metadata": {},
   "outputs": [
    {
     "data": {
      "text/plain": "MultiIndex(levels=[['Epitope', 'Related Object'], ['Antigen Accession', 'Antigen Name', 'Description', 'Ending Position', 'Epitope Comments', 'Epitope ID', 'Epitope Modification(s)', 'Epitope Modified Residue(s)', 'Epitope Relationship', 'Epitope Synonyms', 'Non-peptidic epitope Accession', 'Non-peptidic object Accession', 'Object Type', 'Organism Name', 'Parent Organism', 'Parent Organism ID', 'Parent Protein', 'Parent Protein Accession', 'Starting Position', 'Synonyms']],\n           codes=[[0, 0, 0, 0, 0, 0, 0, 0, 0, 0, 0, 0, 0, 0, 0, 0, 0, 1, 1, 1, 1, 1, 1, 1, 1, 1, 1, 1], [5, 12, 2, 7, 6, 18, 3, 10, 9, 1, 0, 16, 17, 13, 14, 15, 4, 8, 12, 2, 18, 3, 11, 19, 1, 16, 13, 14]])"
     },
     "execution_count": 8,
     "metadata": {},
     "output_type": "execute_result"
    }
   ],
   "source": [
    "df.columns"
   ]
  },
  {
   "cell_type": "code",
   "execution_count": 9,
   "metadata": {},
   "outputs": [
    {
     "data": {
      "text/plain": "Index(['Epitope ID', 'Object Type', 'Description',\n       'Epitope Modified Residue(s)', 'Epitope Modification(s)',\n       'Starting Position', 'Ending Position',\n       'Non-peptidic epitope Accession', 'Epitope Synonyms', 'Antigen Name',\n       'Antigen Accession', 'Parent Protein', 'Parent Protein Accession',\n       'Organism Name', 'Parent Organism', 'Parent Organism ID',\n       'Epitope Comments'],\n      dtype='object')"
     },
     "execution_count": 9,
     "metadata": {},
     "output_type": "execute_result"
    }
   ],
   "source": [
    "df = df['Epitope']\n",
    "df.columns"
   ]
  },
  {
   "cell_type": "code",
   "execution_count": 10,
   "metadata": {},
   "outputs": [
    {
     "data": {
      "text/plain": "Linear peptide                          2216\nDiscontinuous peptide                    120\nDiscontinuous peptide on multi chain      36\nName: Object Type, dtype: int64"
     },
     "execution_count": 10,
     "metadata": {},
     "output_type": "execute_result"
    }
   ],
   "source": [
    "df[\"Object Type\"].value_counts()"
   ]
  },
  {
   "cell_type": "code",
   "execution_count": 11,
   "metadata": {},
   "outputs": [
    {
     "data": {
      "text/plain": "Hemagglutinin                                    930\nNucleoprotein                                    392\nMatrix protein 1                                 277\nRNA-directed RNA polymerase catalytic subunit    195\nNeuraminidase                                    160\nPolymerase basic protein 2                       132\nPolymerase acidic protein                        109\nNon-structural protein 1                          72\nMatrix protein 2                                  34\nNuclear export protein                            29\nProtein PB1-F2                                     6\nName: Parent Protein, dtype: int64"
     },
     "execution_count": 11,
     "metadata": {},
     "output_type": "execute_result"
    }
   ],
   "source": [
    "df[\"Parent Protein\"].value_counts()"
   ]
  },
  {
   "cell_type": "code",
   "execution_count": 12,
   "metadata": {},
   "outputs": [],
   "source": [
    "ha = df[\"Parent Protein\"] == \"Hemagglutinin\"\n",
    "le = df[\"Object Type\"] == \"Linear peptide\"\n",
    "df_ha_linear = df[ha & le].sort_values(by=['Starting Position'])"
   ]
  },
  {
   "cell_type": "code",
   "execution_count": 14,
   "metadata": {},
   "outputs": [],
   "source": [
    "df_ha_linear['Type'] = df_ha_linear[\"Organism Name\"].str.extract(r'([Hh].[Nn].)', expand=False).str.upper()"
   ]
  },
  {
   "cell_type": "code",
   "execution_count": 15,
   "metadata": {},
   "outputs": [
    {
     "data": {
      "text/plain": "H1N1    310\nH3N2    180\nH5N1    115\nNaN     100\nHONG     40\nH7N9     30\nH2N2     22\nH1N2     13\nHANG      4\nH5N2      2\nH3N8      1\nH2N3      1\nH4N4      1\nName: Type, dtype: int64"
     },
     "execution_count": 15,
     "metadata": {},
     "output_type": "execute_result"
    }
   ],
   "source": [
    "df_ha_linear[\"Type\"].value_counts(dropna=False)"
   ]
  },
  {
   "cell_type": "code",
   "execution_count": 16,
   "metadata": {},
   "outputs": [],
   "source": [
    "df_ha_linear_h3 = df_ha_linear[df_ha_linear['Type'] == \"H3N2\"]\n",
    "df_ha_linear_h1 = df_ha_linear[df_ha_linear['Type'] == \"H1N1\"]"
   ]
  },
  {
   "cell_type": "code",
   "execution_count": 117,
   "metadata": {},
   "outputs": [],
   "source": [
    "df_ha_linear_h3[[\"Antigen Accession\", \"Description\"]].to_json(\"h3_linear.json\", orient='values')"
   ]
  },
  {
   "cell_type": "code",
   "execution_count": 18,
   "metadata": {},
   "outputs": [],
   "source": [
    "import json\n",
    "with open('epitope_classfication/h3_linear.json') as f:\n",
    "    h3_linear = json.load(f)\n",
    "\n",
    "with open('epitope_classfication/h3_linear.fasta', 'w') as g:\n",
    "    for item in h3_linear:\n",
    "        g.write(\">%s\\n%s\\n\" % (item[0], item[1]))"
   ]
  },
  {
   "cell_type": "code",
   "execution_count": null,
   "metadata": {},
   "outputs": [],
   "source": []
  }
 ]
}